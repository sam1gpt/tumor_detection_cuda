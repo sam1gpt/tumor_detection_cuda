{
  "nbformat": 4,
  "nbformat_minor": 0,
  "metadata": {
    "colab": {
      "provenance": [],
      "gpuType": "T4",
      "authorship_tag": "ABX9TyMyPM60PE1JHzIi0Vm6rqTd",
      "include_colab_link": true
    },
    "kernelspec": {
      "name": "python3",
      "display_name": "Python 3"
    },
    "language_info": {
      "name": "python"
    },
    "accelerator": "GPU"
  },
  "cells": [
    {
      "cell_type": "markdown",
      "metadata": {
        "id": "view-in-github",
        "colab_type": "text"
      },
      "source": [
        "<a href=\"https://colab.research.google.com/github/sam1gpt/tumor_detection_cuda/blob/main/tumor_detection_cuda.ipynb\" target=\"_parent\"><img src=\"https://colab.research.google.com/assets/colab-badge.svg\" alt=\"Open In Colab\"/></a>"
      ]
    },
    {
      "cell_type": "code",
      "execution_count": 1,
      "metadata": {
        "colab": {
          "base_uri": "https://localhost:8080/"
        },
        "id": "VCgWBc0yLfKK",
        "outputId": "e2a79d25-2d27-48e2-bed2-0daa308ecd31"
      },
      "outputs": [
        {
          "output_type": "stream",
          "name": "stdout",
          "text": [
            "nvcc: NVIDIA (R) Cuda compiler driver\n",
            "Copyright (c) 2005-2024 NVIDIA Corporation\n",
            "Built on Thu_Jun__6_02:18:23_PDT_2024\n",
            "Cuda compilation tools, release 12.5, V12.5.82\n",
            "Build cuda_12.5.r12.5/compiler.34385749_0\n"
          ]
        }
      ],
      "source": [
        "!nvcc --version"
      ]
    },
    {
      "cell_type": "code",
      "source": [
        "%config Completer.use_jedi = False"
      ],
      "metadata": {
        "id": "qchjQ5-9LwiY"
      },
      "execution_count": 2,
      "outputs": []
    },
    {
      "cell_type": "code",
      "source": [
        "!pip install nvcc4jupyter"
      ],
      "metadata": {
        "colab": {
          "base_uri": "https://localhost:8080/"
        },
        "id": "hF1ELK9LLy9B",
        "outputId": "f6ee9bed-eca1-484c-b861-a9f0e4d4c77a"
      },
      "execution_count": 3,
      "outputs": [
        {
          "output_type": "stream",
          "name": "stdout",
          "text": [
            "Collecting nvcc4jupyter\n",
            "  Downloading nvcc4jupyter-1.2.1-py3-none-any.whl.metadata (5.1 kB)\n",
            "Downloading nvcc4jupyter-1.2.1-py3-none-any.whl (10 kB)\n",
            "Installing collected packages: nvcc4jupyter\n",
            "Successfully installed nvcc4jupyter-1.2.1\n"
          ]
        }
      ]
    },
    {
      "cell_type": "code",
      "source": [
        "%load_ext nvcc4jupyter"
      ],
      "metadata": {
        "colab": {
          "base_uri": "https://localhost:8080/"
        },
        "id": "IxTw14mOL2lw",
        "outputId": "50fa0b8f-def0-43e1-de8a-683a09843a5d"
      },
      "execution_count": 4,
      "outputs": [
        {
          "output_type": "stream",
          "name": "stdout",
          "text": [
            "Detected platform \"Colab\". Running its setup...\n",
            "Source files will be saved in \"/tmp/tmpss89qsqa\".\n"
          ]
        }
      ]
    },
    {
      "cell_type": "code",
      "source": [
        "%%writefile grayscale.cu\n",
        "#include <stdio.h>\n",
        "#include <stdlib.h>\n",
        "#include <cuda_runtime.h>\n",
        "#include <opencv2/opencv.hpp>\n",
        "\n",
        "using namespace cv;\n",
        "\n",
        "// Macro for checking CUDA errors\n",
        "#define CHECK_CUDA(call) do {                                  \\\n",
        "    cudaError_t err = call;                                    \\\n",
        "    if (err != cudaSuccess) {                                  \\\n",
        "        printf(\"CUDA Error at %s:%d - %s\\n\",                   \\\n",
        "               __FILE__, __LINE__, cudaGetErrorString(err));   \\\n",
        "        exit(EXIT_FAILURE);                                    \\\n",
        "    }                                                          \\\n",
        "} while(0)\n",
        "\n",
        "// CUDA Kernel for RGB to Grayscale\n",
        "__global__ void rgbToGrayKernel(unsigned char *rgb, unsigned char *gray, int width, int height) {\n",
        "    int x = blockIdx.x * blockDim.x + threadIdx.x;\n",
        "    int y = blockIdx.y * blockDim.y + threadIdx.y;\n",
        "\n",
        "    if (x < width && y < height) {\n",
        "        int idx = (y * width + x) * 3;\n",
        "        gray[y * width + x] = (unsigned char)((299 * rgb[idx] + 587 * rgb[idx + 1] + 114 * rgb[idx + 2]) / 1000);\n",
        "    }\n",
        "}\n",
        "\n",
        "int main() {\n",
        "    // Load Image\n",
        "    cudaEvent_t start, stop;\n",
        "    cudaEventCreate(&start);\n",
        "    cudaEventCreate(&stop);\n",
        "    cudaEventRecord(start, 0);\n",
        "    Mat image = imread(\"img8.jpg\", IMREAD_COLOR);\n",
        "    if (image.empty()) {\n",
        "        printf(\"Error: Image not found!\\n\");\n",
        "        return -1;\n",
        "    }\n",
        "\n",
        "    int width = image.cols;\n",
        "    int height = image.rows;\n",
        "    printf(\"Image loaded: %dx%d\\n\", width, height);\n",
        "\n",
        "    // Allocate Memory on Host\n",
        "    unsigned char *h_rgb = image.data;\n",
        "    unsigned char *h_gray = (unsigned char*)malloc(width * height * sizeof(unsigned char));\n",
        "    if (!h_gray) {\n",
        "        printf(\"Error: Unable to allocate host memory!\\n\");\n",
        "        return -1;\n",
        "    }\n",
        "\n",
        "    // Allocate Memory on Device\n",
        "    unsigned char *d_rgb, *d_gray;\n",
        "    CHECK_CUDA(cudaMalloc(&d_rgb, width * height * 3 * sizeof(unsigned char)));\n",
        "    CHECK_CUDA(cudaMalloc(&d_gray, width * height * sizeof(unsigned char)));\n",
        "\n",
        "    // Copy input image data to device\n",
        "    CHECK_CUDA(cudaMemcpy(d_rgb, h_rgb, width * height * 3 * sizeof(unsigned char), cudaMemcpyHostToDevice));\n",
        "\n",
        "    // Define CUDA Grid\n",
        "    dim3 blockSize(16, 16);\n",
        "    dim3 gridSize((width + 15) / 16, (height + 15) / 16);\n",
        "\n",
        "    // Run Kernel\n",
        "    rgbToGrayKernel<<<gridSize, blockSize>>>(d_rgb, d_gray, width, height);\n",
        "\n",
        "    // Check for CUDA kernel execution errors\n",
        "    cudaError_t err = cudaGetLastError();\n",
        "    if (err != cudaSuccess) {\n",
        "        printf(\"CUDA Kernel Error: %s\\n\", cudaGetErrorString(err));\n",
        "        return -1;\n",
        "    }\n",
        "    cudaEventRecord(stop, 0);\n",
        "    cudaEventSynchronize(stop);\n",
        "    float elapsedTime;\n",
        "    cudaEventElapsedTime(&elapsedTime, start, stop);\n",
        "    // Copy back to host\n",
        "    CHECK_CUDA(cudaMemcpy(h_gray, d_gray, width * height * sizeof(unsigned char), cudaMemcpyDeviceToHost));\n",
        "\n",
        "    // Check if grayscale image is valid\n",
        "    int sum = 0;\n",
        "    for (int i = 0; i < width * height; i++) {\n",
        "        sum += h_gray[i];\n",
        "    }\n",
        "    if (sum == 0) {\n",
        "        printf(\"Warning: Grayscale image is entirely black! Possible memory issue.\\n\");\n",
        "    } else {\n",
        "        printf(\"Grayscale conversion successful.\\n\");\n",
        "    }\n",
        "\n",
        "    // Save the grayscale image\n",
        "    Mat grayImage(height, width, CV_8UC1);\n",
        "    memcpy(grayImage.data, h_gray, width * height * sizeof(unsigned char));\n",
        "    imwrite(\"gray8.jpg\", grayImage);\n",
        "\n",
        "    // Free Memory\n",
        "    cudaFree(d_rgb);\n",
        "    cudaFree(d_gray);\n",
        "    free(h_gray);\n",
        "\n",
        "    printf(\"Processing complete. Grayscale image saved as 'gray8.jpg'.\\n\");\n",
        "    printf(\"Time Taken=%f\",elapsedTime);\n",
        "    return 0;\n",
        "}\n"
      ],
      "metadata": {
        "colab": {
          "base_uri": "https://localhost:8080/"
        },
        "id": "2f1BldScL7IZ",
        "outputId": "e49bd5cb-c5d8-45c6-b985-303901d5c56c"
      },
      "execution_count": 5,
      "outputs": [
        {
          "output_type": "stream",
          "name": "stdout",
          "text": [
            "Writing grayscale.cu\n"
          ]
        }
      ]
    },
    {
      "cell_type": "code",
      "source": [
        "!nvcc -arch=sm_75 grayscale.cu -o sample `pkg-config --cflags --libs opencv4`"
      ],
      "metadata": {
        "colab": {
          "base_uri": "https://localhost:8080/"
        },
        "id": "6KQpqPpcL96V",
        "outputId": "15b4badb-b93d-4886-ef91-1c1fd63929e5"
      },
      "execution_count": 6,
      "outputs": [
        {
          "output_type": "stream",
          "name": "stdout",
          "text": [
            "\u001b[01m\u001b[0m\u001b[01m/usr/include/opencv4/opencv2/stitching/detail/warpers.hpp(235)\u001b[0m: \u001b[01;35mwarning\u001b[0m #611-D: overloaded virtual function \u001b[01m\"cv::detail::PlaneWarper::buildMaps\"\u001b[0m is only partially overridden in class \u001b[01m\"cv::detail::AffineWarper\"\u001b[0m\n",
            "  class AffineWarper : public PlaneWarper\n",
            "        ^\n",
            "\n",
            "\u001b[01;36m\u001b[0m\u001b[01;36mRemark\u001b[0m: The warnings can be suppressed with \"-diag-suppress <warning-number>\"\n",
            "\n",
            "\u001b[01m\u001b[0m\u001b[01m/usr/include/opencv4/opencv2/stitching/detail/warpers.hpp(235)\u001b[0m: \u001b[01;35mwarning\u001b[0m #611-D: overloaded virtual function \u001b[01m\"cv::detail::PlaneWarper::warp\"\u001b[0m is only partially overridden in class \u001b[01m\"cv::detail::AffineWarper\"\u001b[0m\n",
            "  class AffineWarper : public PlaneWarper\n",
            "        ^\n",
            "\n",
            "\u001b[01m\u001b[0m\u001b[01m/usr/include/opencv4/opencv2/stitching/detail/blenders.hpp(100)\u001b[0m: \u001b[01;35mwarning\u001b[0m #611-D: overloaded virtual function \u001b[01m\"cv::detail::Blender::prepare\"\u001b[0m is only partially overridden in class \u001b[01m\"cv::detail::FeatherBlender\"\u001b[0m\n",
            "  class FeatherBlender : public Blender\n",
            "        ^\n",
            "\n",
            "\u001b[01m\u001b[0m\u001b[01m/usr/include/opencv4/opencv2/stitching/detail/blenders.hpp(127)\u001b[0m: \u001b[01;35mwarning\u001b[0m #611-D: overloaded virtual function \u001b[01m\"cv::detail::Blender::prepare\"\u001b[0m is only partially overridden in class \u001b[01m\"cv::detail::MultiBandBlender\"\u001b[0m\n",
            "  class MultiBandBlender : public Blender\n",
            "        ^\n",
            "\n",
            "\u001b[01m\u001b[0m\u001b[01m/usr/include/opencv4/opencv2/stitching/detail/warpers.hpp(235)\u001b[0m: \u001b[01;35mwarning\u001b[0m #611-D: overloaded virtual function \u001b[01m\"cv::detail::PlaneWarper::buildMaps\"\u001b[0m is only partially overridden in class \u001b[01m\"cv::detail::AffineWarper\"\u001b[0m\n",
            "  class AffineWarper : public PlaneWarper\n",
            "        ^\n",
            "\n",
            "\u001b[01;36m\u001b[0m\u001b[01;36mRemark\u001b[0m: The warnings can be suppressed with \"-diag-suppress <warning-number>\"\n",
            "\n",
            "\u001b[01m\u001b[0m\u001b[01m/usr/include/opencv4/opencv2/stitching/detail/warpers.hpp(235)\u001b[0m: \u001b[01;35mwarning\u001b[0m #611-D: overloaded virtual function \u001b[01m\"cv::detail::PlaneWarper::warp\"\u001b[0m is only partially overridden in class \u001b[01m\"cv::detail::AffineWarper\"\u001b[0m\n",
            "  class AffineWarper : public PlaneWarper\n",
            "        ^\n",
            "\n",
            "\u001b[01m\u001b[0m\u001b[01m/usr/include/opencv4/opencv2/stitching/detail/blenders.hpp(100)\u001b[0m: \u001b[01;35mwarning\u001b[0m #611-D: overloaded virtual function \u001b[01m\"cv::detail::Blender::prepare\"\u001b[0m is only partially overridden in class \u001b[01m\"cv::detail::FeatherBlender\"\u001b[0m\n",
            "  class FeatherBlender : public Blender\n",
            "        ^\n",
            "\n",
            "\u001b[01m\u001b[0m\u001b[01m/usr/include/opencv4/opencv2/stitching/detail/blenders.hpp(127)\u001b[0m: \u001b[01;35mwarning\u001b[0m #611-D: overloaded virtual function \u001b[01m\"cv::detail::Blender::prepare\"\u001b[0m is only partially overridden in class \u001b[01m\"cv::detail::MultiBandBlender\"\u001b[0m\n",
            "  class MultiBandBlender : public Blender\n",
            "        ^\n",
            "\n"
          ]
        }
      ]
    },
    {
      "cell_type": "code",
      "source": [
        "\n",
        "!./sample"
      ],
      "metadata": {
        "colab": {
          "base_uri": "https://localhost:8080/"
        },
        "id": "8_ZfRLdWMC2A",
        "outputId": "fa860a41-016d-48d8-925b-03a6765a2f8c"
      },
      "execution_count": 7,
      "outputs": [
        {
          "output_type": "stream",
          "name": "stdout",
          "text": [
            "Image loaded: 501x518\n",
            "Grayscale conversion successful.\n",
            "Processing complete. Grayscale image saved as 'gray8.jpg'.\n",
            "Time Taken=124.835838"
          ]
        }
      ]
    },
    {
      "cell_type": "code",
      "source": [
        "%%writefile gaussian_blur.cu\n",
        "#include <stdio.h>\n",
        "#include <stdlib.h>\n",
        "#include <cuda_runtime.h>\n",
        "#include <opencv2/opencv.hpp>\n",
        "\n",
        "using namespace cv;\n",
        "\n",
        "// CUDA error-checking macro\n",
        "#define CHECK_CUDA(call) \\\n",
        "{                                \\\n",
        "    cudaError_t err = call;       \\\n",
        "    if (err != cudaSuccess) {    \\\n",
        "        printf(\"CUDA Error at %s:%d - %s\\n\", \\\n",
        "               __FILE__, __LINE__, cudaGetErrorString(err)); \\\n",
        "        exit(EXIT_FAILURE);       \\\n",
        "    }                            \\\n",
        "}\n",
        "\n",
        "// Gaussian Kernel (3x3)\n",
        "__constant__ float d_kernel[9] = {\n",
        "    0.0625f, 0.125f, 0.0625f,\n",
        "    0.125f,  0.25f,  0.125f,\n",
        "    0.0625f, 0.125f, 0.0625f\n",
        "};\n",
        "\n",
        "// CUDA Kernel for Gaussian Blur\n",
        "__global__ void gaussianBlurKernel(unsigned char *input, unsigned char *output, int width, int height) {\n",
        "    int x = blockIdx.x * blockDim.x + threadIdx.x;\n",
        "    int y = blockIdx.y * blockDim.y + threadIdx.y;\n",
        "\n",
        "    if (x >= width || y >= height) return;\n",
        "\n",
        "    if (x > 0 && y > 0 && x < width - 1 && y < height - 1) {\n",
        "        float sum = 0.0f;\n",
        "\n",
        "        // Apply 3x3 Gaussian filter\n",
        "        for (int ky = -1; ky <= 1; ky++) {\n",
        "            for (int kx = -1; kx <= 1; kx++) {\n",
        "                int idx = (y + ky) * width + (x + kx);\n",
        "                int kernelIdx = (ky + 1) * 3 + (kx + 1);\n",
        "                sum += (float)input[idx] * d_kernel[kernelIdx];\n",
        "            }\n",
        "        }\n",
        "\n",
        "        output[y * width + x] = (unsigned char)sum;\n",
        "    }\n",
        "    else {\n",
        "        // Handle border pixels by copying original value\n",
        "        output[y * width + x] = input[y * width + x];\n",
        "    }\n",
        "}\n",
        "\n",
        "int main() {\n",
        "    // Load Grayscale Image\n",
        "    Mat grayImage = imread(\"gray8.jpg\", IMREAD_GRAYSCALE);\n",
        "    if (grayImage.empty()) {\n",
        "        printf(\"Error: Grayscale image not found!\\n\");\n",
        "        return -1;\n",
        "    }\n",
        "    cudaEvent_t start, stop;\n",
        "cudaEventCreate(&start);\n",
        "cudaEventCreate(&stop);\n",
        " cudaEventRecord(start, 0);\n",
        "\n",
        "\n",
        "    int width = grayImage.cols;\n",
        "    int height = grayImage.rows;\n",
        "\n",
        "    printf(\"Applying Gaussian Blur on Image: %dx%d\\n\", width, height);\n",
        "\n",
        "    // Clone image to avoid modification issues\n",
        "    Mat grayClone = grayImage.clone();\n",
        "\n",
        "    // Allocate Host Memory\n",
        "    unsigned char *h_gray = grayClone.data;\n",
        "    unsigned char *h_blurred = (unsigned char*)malloc(width * height * sizeof(unsigned char));\n",
        "    if (!h_blurred) {\n",
        "        printf(\"Error: Unable to allocate host memory!\\n\");\n",
        "        return -1;\n",
        "    }\n",
        "\n",
        "    // Allocate Device Memory\n",
        "    unsigned char *d_gray, *d_blurred;\n",
        "    CHECK_CUDA(cudaMalloc(&d_gray, width * height * sizeof(unsigned char)));\n",
        "    CHECK_CUDA(cudaMalloc(&d_blurred, width * height * sizeof(unsigned char)));\n",
        "\n",
        "    // Copy input image to device\n",
        "    CHECK_CUDA(cudaMemcpy(d_gray, h_gray, width * height * sizeof(unsigned char), cudaMemcpyHostToDevice));\n",
        "\n",
        "    // Define CUDA Grid\n",
        "    dim3 blockSize(16, 16);\n",
        "    dim3 gridSize((width + blockSize.x - 1) / blockSize.x, (height + blockSize.y - 1) / blockSize.y);\n",
        "\n",
        "    // Run Gaussian Blur Kernel\n",
        "    gaussianBlurKernel<<<gridSize, blockSize>>>(d_gray, d_blurred, width, height);\n",
        "\n",
        "    // Check for errors\n",
        "    CHECK_CUDA(cudaPeekAtLastError());\n",
        "    cudaEventRecord(stop, 0);\n",
        "cudaEventSynchronize(stop);\n",
        "float elapsedTime;\n",
        "cudaEventElapsedTime(&elapsedTime, start, stop);\n",
        "\n",
        "\n",
        "    // Copy back the blurred image\n",
        "    CHECK_CUDA(cudaMemcpy(h_blurred, d_blurred, width * height * sizeof(unsigned char), cudaMemcpyDeviceToHost));\n",
        "\n",
        "    // Save the blurred image\n",
        "    Mat blurredImage(height, width, CV_8UC1, h_blurred);\n",
        "    imwrite(\"blurred8.jpg\", blurredImage);\n",
        "\n",
        "    // Free Memory\n",
        "    cudaFree(d_gray);\n",
        "    cudaFree(d_blurred);\n",
        "    free(h_blurred);\n",
        "\n",
        "    printf(\"Gaussian Blur applied. Blurred image saved as 'blurred8.jpg'.\\n\");\n",
        "    printf(\"Time Taken=%f\",elapsedTime);\n",
        "    return 0;\n",
        "}\n",
        "\n"
      ],
      "metadata": {
        "colab": {
          "base_uri": "https://localhost:8080/"
        },
        "id": "K6OvanmLMHCC",
        "outputId": "dac56b0c-48ca-4694-e046-aad1b7144f1b"
      },
      "execution_count": 8,
      "outputs": [
        {
          "output_type": "stream",
          "name": "stdout",
          "text": [
            "Writing gaussian_blur.cu\n"
          ]
        }
      ]
    },
    {
      "cell_type": "code",
      "source": [
        "!nvcc -arch=sm_75 gaussian_blur.cu -o sample `pkg-config --cflags --libs opencv4`"
      ],
      "metadata": {
        "colab": {
          "base_uri": "https://localhost:8080/"
        },
        "id": "3LrULctPMUdj",
        "outputId": "83879aed-e546-4d9d-899a-7e0e51ec2e12"
      },
      "execution_count": 9,
      "outputs": [
        {
          "output_type": "stream",
          "name": "stdout",
          "text": [
            "\u001b[01m\u001b[0m\u001b[01m/usr/include/opencv4/opencv2/stitching/detail/warpers.hpp(235)\u001b[0m: \u001b[01;35mwarning\u001b[0m #611-D: overloaded virtual function \u001b[01m\"cv::detail::PlaneWarper::buildMaps\"\u001b[0m is only partially overridden in class \u001b[01m\"cv::detail::AffineWarper\"\u001b[0m\n",
            "  class AffineWarper : public PlaneWarper\n",
            "        ^\n",
            "\n",
            "\u001b[01;36m\u001b[0m\u001b[01;36mRemark\u001b[0m: The warnings can be suppressed with \"-diag-suppress <warning-number>\"\n",
            "\n",
            "\u001b[01m\u001b[0m\u001b[01m/usr/include/opencv4/opencv2/stitching/detail/warpers.hpp(235)\u001b[0m: \u001b[01;35mwarning\u001b[0m #611-D: overloaded virtual function \u001b[01m\"cv::detail::PlaneWarper::warp\"\u001b[0m is only partially overridden in class \u001b[01m\"cv::detail::AffineWarper\"\u001b[0m\n",
            "  class AffineWarper : public PlaneWarper\n",
            "        ^\n",
            "\n",
            "\u001b[01m\u001b[0m\u001b[01m/usr/include/opencv4/opencv2/stitching/detail/blenders.hpp(100)\u001b[0m: \u001b[01;35mwarning\u001b[0m #611-D: overloaded virtual function \u001b[01m\"cv::detail::Blender::prepare\"\u001b[0m is only partially overridden in class \u001b[01m\"cv::detail::FeatherBlender\"\u001b[0m\n",
            "  class FeatherBlender : public Blender\n",
            "        ^\n",
            "\n",
            "\u001b[01m\u001b[0m\u001b[01m/usr/include/opencv4/opencv2/stitching/detail/blenders.hpp(127)\u001b[0m: \u001b[01;35mwarning\u001b[0m #611-D: overloaded virtual function \u001b[01m\"cv::detail::Blender::prepare\"\u001b[0m is only partially overridden in class \u001b[01m\"cv::detail::MultiBandBlender\"\u001b[0m\n",
            "  class MultiBandBlender : public Blender\n",
            "        ^\n",
            "\n",
            "\u001b[01m\u001b[0m\u001b[01m/usr/include/opencv4/opencv2/stitching/detail/warpers.hpp(235)\u001b[0m: \u001b[01;35mwarning\u001b[0m #611-D: overloaded virtual function \u001b[01m\"cv::detail::PlaneWarper::buildMaps\"\u001b[0m is only partially overridden in class \u001b[01m\"cv::detail::AffineWarper\"\u001b[0m\n",
            "  class AffineWarper : public PlaneWarper\n",
            "        ^\n",
            "\n",
            "\u001b[01;36m\u001b[0m\u001b[01;36mRemark\u001b[0m: The warnings can be suppressed with \"-diag-suppress <warning-number>\"\n",
            "\n",
            "\u001b[01m\u001b[0m\u001b[01m/usr/include/opencv4/opencv2/stitching/detail/warpers.hpp(235)\u001b[0m: \u001b[01;35mwarning\u001b[0m #611-D: overloaded virtual function \u001b[01m\"cv::detail::PlaneWarper::warp\"\u001b[0m is only partially overridden in class \u001b[01m\"cv::detail::AffineWarper\"\u001b[0m\n",
            "  class AffineWarper : public PlaneWarper\n",
            "        ^\n",
            "\n",
            "\u001b[01m\u001b[0m\u001b[01m/usr/include/opencv4/opencv2/stitching/detail/blenders.hpp(100)\u001b[0m: \u001b[01;35mwarning\u001b[0m #611-D: overloaded virtual function \u001b[01m\"cv::detail::Blender::prepare\"\u001b[0m is only partially overridden in class \u001b[01m\"cv::detail::FeatherBlender\"\u001b[0m\n",
            "  class FeatherBlender : public Blender\n",
            "        ^\n",
            "\n",
            "\u001b[01m\u001b[0m\u001b[01m/usr/include/opencv4/opencv2/stitching/detail/blenders.hpp(127)\u001b[0m: \u001b[01;35mwarning\u001b[0m #611-D: overloaded virtual function \u001b[01m\"cv::detail::Blender::prepare\"\u001b[0m is only partially overridden in class \u001b[01m\"cv::detail::MultiBandBlender\"\u001b[0m\n",
            "  class MultiBandBlender : public Blender\n",
            "        ^\n",
            "\n"
          ]
        }
      ]
    },
    {
      "cell_type": "code",
      "source": [
        "!./sample"
      ],
      "metadata": {
        "colab": {
          "base_uri": "https://localhost:8080/"
        },
        "id": "iR59nBy2MYJv",
        "outputId": "e15c2db6-fbeb-43ab-9b21-6114ab96e464"
      },
      "execution_count": 10,
      "outputs": [
        {
          "output_type": "stream",
          "name": "stdout",
          "text": [
            "Applying Gaussian Blur on Image: 501x518\n",
            "Gaussian Blur applied. Blurred image saved as 'blurred8.jpg'.\n",
            "Time Taken=3.903808"
          ]
        }
      ]
    },
    {
      "cell_type": "code",
      "source": [
        "%%writefile edge_detection.cu\n",
        "#include <stdio.h>\n",
        "#include <stdlib.h>\n",
        "#include <cuda_runtime.h>\n",
        "#include <opencv2/opencv.hpp>\n",
        "#include <math.h>\n",
        "\n",
        "using namespace cv;\n",
        "\n",
        "#define CHECK_CUDA(call) \\\n",
        "{                                \\\n",
        "    cudaError_t err = call;       \\\n",
        "    if (err != cudaSuccess) {    \\\n",
        "        printf(\"CUDA Error at %s:%d - %s\\n\", \\\n",
        "               __FILE__, __LINE__, cudaGetErrorString(err)); \\\n",
        "        exit(EXIT_FAILURE);       \\\n",
        "    }                            \\\n",
        "}\n",
        "\n",
        "__global__ void sobelEdgeDetectionKernel(unsigned char *gray, unsigned char *edges, int width, int height, int threshold) {\n",
        "    int x = blockIdx.x * blockDim.x + threadIdx.x;\n",
        "    int y = blockIdx.y * blockDim.y + threadIdx.y;\n",
        "\n",
        "    if (x > 0 && y > 0 && x < width - 1 && y < height - 1) {\n",
        "        int Gx = (-1 * gray[(y-1)*width + (x-1)]) + (0 * gray[(y-1)*width + (x)]) + (1 * gray[(y-1)*width + (x+1)]) +\n",
        "                 (-2 * gray[(y)  *width + (x-1)]) + (0 * gray[(y)  *width + (x)]) + (2 * gray[(y)  *width + (x+1)]) +\n",
        "                 (-1 * gray[(y+1)*width + (x-1)]) + (0 * gray[(y+1)*width + (x)]) + (1 * gray[(y+1)*width + (x+1)]);\n",
        "\n",
        "        int Gy = (-1 * gray[(y-1)*width + (x-1)]) + (-2 * gray[(y-1)*width + (x)]) + (-1 * gray[(y-1)*width + (x+1)]) +\n",
        "                 (0 * gray[(y)  *width + (x-1)]) + (0 * gray[(y)  *width + (x)]) + (0 * gray[(y)  *width + (x+1)]) +\n",
        "                 (1 * gray[(y+1)*width + (x-1)]) + (2 * gray[(y+1)*width + (x)]) + (1 * gray[(y+1)*width + (x+1)]);\n",
        "\n",
        "        int magnitude = min(255, (int)sqrtf(Gx * Gx + Gy * Gy));\n",
        "\n",
        "        edges[y * width + x] = (magnitude > threshold) ? 255 : 0;\n",
        "    } else {\n",
        "        edges[y * width + x] = 0;\n",
        "    }\n",
        "}\n",
        "\n",
        "int main() {\n",
        "    // Load Grayscale Image and Apply Gaussian Blur\n",
        "    Mat grayImage = imread(\"blurred8.jpg\", IMREAD_GRAYSCALE);\n",
        "    if (grayImage.empty()) {\n",
        "        printf(\"Error: Grayscale image not found!\\n\");\n",
        "        return -1;\n",
        "    }\n",
        "\n",
        "    GaussianBlur(grayImage, grayImage, Size(5, 5), 1.5);  // Smooth image to remove noise\n",
        "\n",
        "    int width = grayImage.cols;\n",
        "    int height = grayImage.rows;\n",
        "    cudaEvent_t start, stop;\n",
        "cudaEventCreate(&start);\n",
        "cudaEventCreate(&stop);\n",
        " cudaEventRecord(start, 0);\n",
        "\n",
        "\n",
        "    printf(\"Processing Image: %dx%d\\n\", width, height);\n",
        "\n",
        "    // Allocate Host Memory\n",
        "    unsigned char *h_gray = grayImage.data;\n",
        "    unsigned char *h_edges = (unsigned char*)malloc(width * height * sizeof(unsigned char));\n",
        "\n",
        "    // Allocate Device Memory\n",
        "    unsigned char *d_gray, *d_edges;\n",
        "    CHECK_CUDA(cudaMalloc(&d_gray, width * height * sizeof(unsigned char)));\n",
        "    CHECK_CUDA(cudaMalloc(&d_edges, width * height * sizeof(unsigned char)));\n",
        "\n",
        "    CHECK_CUDA(cudaMemcpy(d_gray, h_gray, width * height * sizeof(unsigned char), cudaMemcpyHostToDevice));\n",
        "    CHECK_CUDA(cudaMemset(d_edges, 0, width * height * sizeof(unsigned char)));\n",
        "\n",
        "    // Define CUDA Grid\n",
        "    dim3 blockSize(16, 16);\n",
        "    dim3 gridSize((width + blockSize.x - 1) / blockSize.x, (height + blockSize.y - 1) / blockSize.y);\n",
        "\n",
        "    int threshold = 80;  // Higher threshold to remove weak edges\n",
        "    sobelEdgeDetectionKernel<<<gridSize, blockSize>>>(d_gray, d_edges, width, height, threshold);\n",
        "\n",
        "    CHECK_CUDA(cudaPeekAtLastError());\n",
        "    cudaEventRecord(stop, 0);\n",
        "cudaEventSynchronize(stop);\n",
        "float elapsedTime;\n",
        "cudaEventElapsedTime(&elapsedTime, start, stop);\n",
        "\n",
        "\n",
        "    CHECK_CUDA(cudaMemcpy(h_edges, d_edges, width * height * sizeof(unsigned char), cudaMemcpyDeviceToHost));\n",
        "\n",
        "    // Save Edge-detected Image\n",
        "    Mat edgeImage(height, width, CV_8UC1, h_edges);\n",
        "    imwrite(\"edges_clean.jpg\", edgeImage);\n",
        "\n",
        "    // Free Memory\n",
        "    cudaFree(d_gray);\n",
        "    cudaFree(d_edges);\n",
        "    free(h_edges);\n",
        "\n",
        "    printf(\"Edge detection improved. Edge-detected image saved as 'edges_clean.jpg'.\\n\");\n",
        "    printf(\"Time Taken=%f\",elapsedTime);\n",
        "    return 0;\n",
        "}\n"
      ],
      "metadata": {
        "colab": {
          "base_uri": "https://localhost:8080/"
        },
        "id": "InUQiZ3fMf6_",
        "outputId": "50e46970-aa98-4bc7-fdca-98601b25a91c"
      },
      "execution_count": 11,
      "outputs": [
        {
          "output_type": "stream",
          "name": "stdout",
          "text": [
            "Writing edge_detection.cu\n"
          ]
        }
      ]
    },
    {
      "cell_type": "code",
      "source": [
        "!nvcc -arch=sm_75 edge_detection.cu -o sample `pkg-config --cflags --libs opencv4`"
      ],
      "metadata": {
        "colab": {
          "base_uri": "https://localhost:8080/"
        },
        "id": "UdJTrXzIMkCI",
        "outputId": "8bfbe350-1f2a-49cb-ee76-985245bcc924"
      },
      "execution_count": 12,
      "outputs": [
        {
          "output_type": "stream",
          "name": "stdout",
          "text": [
            "\u001b[01m\u001b[0m\u001b[01m/usr/include/opencv4/opencv2/stitching/detail/warpers.hpp(235)\u001b[0m: \u001b[01;35mwarning\u001b[0m #611-D: overloaded virtual function \u001b[01m\"cv::detail::PlaneWarper::buildMaps\"\u001b[0m is only partially overridden in class \u001b[01m\"cv::detail::AffineWarper\"\u001b[0m\n",
            "  class AffineWarper : public PlaneWarper\n",
            "        ^\n",
            "\n",
            "\u001b[01;36m\u001b[0m\u001b[01;36mRemark\u001b[0m: The warnings can be suppressed with \"-diag-suppress <warning-number>\"\n",
            "\n",
            "\u001b[01m\u001b[0m\u001b[01m/usr/include/opencv4/opencv2/stitching/detail/warpers.hpp(235)\u001b[0m: \u001b[01;35mwarning\u001b[0m #611-D: overloaded virtual function \u001b[01m\"cv::detail::PlaneWarper::warp\"\u001b[0m is only partially overridden in class \u001b[01m\"cv::detail::AffineWarper\"\u001b[0m\n",
            "  class AffineWarper : public PlaneWarper\n",
            "        ^\n",
            "\n",
            "\u001b[01m\u001b[0m\u001b[01m/usr/include/opencv4/opencv2/stitching/detail/blenders.hpp(100)\u001b[0m: \u001b[01;35mwarning\u001b[0m #611-D: overloaded virtual function \u001b[01m\"cv::detail::Blender::prepare\"\u001b[0m is only partially overridden in class \u001b[01m\"cv::detail::FeatherBlender\"\u001b[0m\n",
            "  class FeatherBlender : public Blender\n",
            "        ^\n",
            "\n",
            "\u001b[01m\u001b[0m\u001b[01m/usr/include/opencv4/opencv2/stitching/detail/blenders.hpp(127)\u001b[0m: \u001b[01;35mwarning\u001b[0m #611-D: overloaded virtual function \u001b[01m\"cv::detail::Blender::prepare\"\u001b[0m is only partially overridden in class \u001b[01m\"cv::detail::MultiBandBlender\"\u001b[0m\n",
            "  class MultiBandBlender : public Blender\n",
            "        ^\n",
            "\n",
            "\u001b[01m\u001b[0m\u001b[01m/usr/include/opencv4/opencv2/stitching/detail/warpers.hpp(235)\u001b[0m: \u001b[01;35mwarning\u001b[0m #611-D: overloaded virtual function \u001b[01m\"cv::detail::PlaneWarper::buildMaps\"\u001b[0m is only partially overridden in class \u001b[01m\"cv::detail::AffineWarper\"\u001b[0m\n",
            "  class AffineWarper : public PlaneWarper\n",
            "        ^\n",
            "\n",
            "\u001b[01;36m\u001b[0m\u001b[01;36mRemark\u001b[0m: The warnings can be suppressed with \"-diag-suppress <warning-number>\"\n",
            "\n",
            "\u001b[01m\u001b[0m\u001b[01m/usr/include/opencv4/opencv2/stitching/detail/warpers.hpp(235)\u001b[0m: \u001b[01;35mwarning\u001b[0m #611-D: overloaded virtual function \u001b[01m\"cv::detail::PlaneWarper::warp\"\u001b[0m is only partially overridden in class \u001b[01m\"cv::detail::AffineWarper\"\u001b[0m\n",
            "  class AffineWarper : public PlaneWarper\n",
            "        ^\n",
            "\n",
            "\u001b[01m\u001b[0m\u001b[01m/usr/include/opencv4/opencv2/stitching/detail/blenders.hpp(100)\u001b[0m: \u001b[01;35mwarning\u001b[0m #611-D: overloaded virtual function \u001b[01m\"cv::detail::Blender::prepare\"\u001b[0m is only partially overridden in class \u001b[01m\"cv::detail::FeatherBlender\"\u001b[0m\n",
            "  class FeatherBlender : public Blender\n",
            "        ^\n",
            "\n",
            "\u001b[01m\u001b[0m\u001b[01m/usr/include/opencv4/opencv2/stitching/detail/blenders.hpp(127)\u001b[0m: \u001b[01;35mwarning\u001b[0m #611-D: overloaded virtual function \u001b[01m\"cv::detail::Blender::prepare\"\u001b[0m is only partially overridden in class \u001b[01m\"cv::detail::MultiBandBlender\"\u001b[0m\n",
            "  class MultiBandBlender : public Blender\n",
            "        ^\n",
            "\n"
          ]
        }
      ]
    },
    {
      "cell_type": "code",
      "source": [
        "!./sample"
      ],
      "metadata": {
        "colab": {
          "base_uri": "https://localhost:8080/"
        },
        "id": "XYulcrtkMqF_",
        "outputId": "74382700-4fb4-4541-e02b-4a9af28b49e1"
      },
      "execution_count": 13,
      "outputs": [
        {
          "output_type": "stream",
          "name": "stdout",
          "text": [
            "Processing Image: 501x518\n",
            "Edge detection improved. Edge-detected image saved as 'edges_clean.jpg'.\n",
            "Time Taken=0.455712"
          ]
        }
      ]
    },
    {
      "cell_type": "code",
      "source": [
        "%%writefile morphological_ops.cu\n",
        "#include <stdio.h>\n",
        "#include <stdlib.h>\n",
        "#include <cuda_runtime.h>\n",
        "#include <opencv2/opencv.hpp>\n",
        "\n",
        "using namespace cv;\n",
        "\n",
        "// CUDA error-checking macro\n",
        "#define CHECK_CUDA(call) \\\n",
        "{                                \\\n",
        "    cudaError_t err = call;       \\\n",
        "    if (err != cudaSuccess) {    \\\n",
        "        printf(\"CUDA Error at %s:%d - %s\\n\", \\\n",
        "               __FILE__, __LINE__, cudaGetErrorString(err)); \\\n",
        "        exit(EXIT_FAILURE);       \\\n",
        "    }                            \\\n",
        "}\n",
        "\n",
        "// CUDA Kernel for Thresholding\n",
        "__global__ void thresholdKernel(unsigned char *input, unsigned char *output, int width, int height, unsigned char threshold) {\n",
        "    int x = blockIdx.x * blockDim.x + threadIdx.x;\n",
        "    int y = blockIdx.y * blockDim.y + threadIdx.y;\n",
        "\n",
        "    if (x >= width || y >= height) return;\n",
        "\n",
        "    int idx = y * width + x;\n",
        "    output[idx] = (input[idx] > threshold) ? 255 : 0;\n",
        "}\n",
        "\n",
        "// CUDA Kernel for Dilation with 5x5 structuring element\n",
        "__global__ void dilationKernel(unsigned char *input, unsigned char *output, int width, int height) {\n",
        "    int x = blockIdx.x * blockDim.x + threadIdx.x;\n",
        "    int y = blockIdx.y * blockDim.y + threadIdx.y;\n",
        "\n",
        "    if (x >= width || y >= height) return;\n",
        "\n",
        "    unsigned char maxVal = 0;\n",
        "\n",
        "    // 5x5 structuring element\n",
        "    for (int ky = -2; ky <= 2; ky++) {\n",
        "        for (int kx = -2; kx <= 2; kx++) {\n",
        "            int nx = x + kx;\n",
        "            int ny = y + ky;\n",
        "            if (nx >= 0 && nx < width && ny >= 0 && ny < height) {\n",
        "                maxVal = (maxVal > input[ny * width + nx]) ? maxVal : input[ny * width + nx];\n",
        "            }\n",
        "        }\n",
        "    }\n",
        "\n",
        "    output[y * width + x] = maxVal;\n",
        "}\n",
        "\n",
        "// CUDA Kernel for Erosion with 5x5 structuring element\n",
        "__global__ void erosionKernel(unsigned char *input, unsigned char *output, int width, int height) {\n",
        "    int x = blockIdx.x * blockDim.x + threadIdx.x;\n",
        "    int y = blockIdx.y * blockDim.y + threadIdx.y;\n",
        "\n",
        "    if (x >= width || y >= height) return;\n",
        "\n",
        "    unsigned char minVal = 255;\n",
        "\n",
        "    // 5x5 structuring element\n",
        "    for (int ky = -2; ky <= 2; ky++) {\n",
        "        for (int kx = -2; kx <= 2; kx++) {\n",
        "            int nx = x + kx;\n",
        "            int ny = y + ky;\n",
        "            if (nx >= 0 && nx < width && ny >= 0 && ny < height) {\n",
        "                minVal = (minVal < input[ny * width + nx]) ? minVal : input[ny * width + nx];\n",
        "            }\n",
        "        }\n",
        "    }\n",
        "\n",
        "    output[y * width + x] = minVal;\n",
        "}\n",
        "\n",
        "int main() {\n",
        "    // Load Edge-detected Image\n",
        "    Mat edgeImage = imread(\"edges_clean.jpg\", IMREAD_GRAYSCALE);\n",
        "    if (edgeImage.empty()) {\n",
        "        printf(\"Error: Edge-detected image not found!\\n\");\n",
        "        return -1;\n",
        "    }\n",
        "\n",
        "    int width = edgeImage.cols;\n",
        "    int height = edgeImage.rows;\n",
        "    cudaEvent_t start, stop;\n",
        "cudaEventCreate(&start);\n",
        "cudaEventCreate(&stop);\n",
        " cudaEventRecord(start, 0);\n",
        "\n",
        "    printf(\"Processing image: %dx%d\\n\", width, height);\n",
        "\n",
        "    // Allocate Host Memory\n",
        "    unsigned char *h_edges = edgeImage.data;\n",
        "    unsigned char *h_binary = (unsigned char*)malloc(width * height * sizeof(unsigned char));\n",
        "    unsigned char *h_dilated = (unsigned char*)malloc(width * height * sizeof(unsigned char));\n",
        "    unsigned char *h_final = (unsigned char*)malloc(width * height * sizeof(unsigned char));\n",
        "\n",
        "    if (!h_binary || !h_dilated || !h_final) {\n",
        "        printf(\"Error: Unable to allocate host memory!\\n\");\n",
        "        return -1;\n",
        "    }\n",
        "\n",
        "    // Allocate Device Memory\n",
        "    unsigned char *d_edges, *d_binary, *d_dilated, *d_final;\n",
        "    CHECK_CUDA(cudaMalloc(&d_edges, width * height * sizeof(unsigned char)));\n",
        "    CHECK_CUDA(cudaMalloc(&d_binary, width * height * sizeof(unsigned char)));\n",
        "    CHECK_CUDA(cudaMalloc(&d_dilated, width * height * sizeof(unsigned char)));\n",
        "    CHECK_CUDA(cudaMalloc(&d_final, width * height * sizeof(unsigned char)));\n",
        "\n",
        "    // Copy input image to device\n",
        "    CHECK_CUDA(cudaMemcpy(d_edges, h_edges, width * height * sizeof(unsigned char), cudaMemcpyHostToDevice));\n",
        "\n",
        "    // Define CUDA Grid\n",
        "    dim3 blockSize(16, 16);\n",
        "    dim3 gridSize((width + blockSize.x - 1) / blockSize.x, (height + blockSize.y - 1) / blockSize.y);\n",
        "\n",
        "    // Apply thresholding to ensure binary input (adjust threshold value as needed)\n",
        "    thresholdKernel<<<gridSize, blockSize>>>(d_edges, d_binary, width, height, 50);\n",
        "    CHECK_CUDA(cudaPeekAtLastError());\n",
        "    CHECK_CUDA(cudaDeviceSynchronize());\n",
        "\n",
        "    // Copy thresholded image back to host and save for debugging\n",
        "    CHECK_CUDA(cudaMemcpy(h_binary, d_binary, width * height * sizeof(unsigned char), cudaMemcpyDeviceToHost));\n",
        "    Mat binaryImage(height, width, CV_8UC1, h_binary);\n",
        "    imwrite(\"binary_edges8.jpg\", binaryImage);\n",
        "\n",
        "    // Apply Closing (Dilation followed by Erosion) to fill tumor region\n",
        "    dilationKernel<<<gridSize, blockSize>>>(d_binary, d_dilated, width, height);\n",
        "    CHECK_CUDA(cudaPeekAtLastError());\n",
        "    CHECK_CUDA(cudaDeviceSynchronize());\n",
        "\n",
        "    // Save intermediate dilation result for debugging\n",
        "    CHECK_CUDA(cudaMemcpy(h_dilated, d_dilated, width * height * sizeof(unsigned char), cudaMemcpyDeviceToHost));\n",
        "    Mat dilatedImage(height, width, CV_8UC1, h_dilated);\n",
        "    imwrite(\"dilated_edges8.jpg\", dilatedImage);\n",
        "\n",
        "    // Apply Erosion to refine the filled region\n",
        "    erosionKernel<<<gridSize, blockSize>>>(d_dilated, d_final, width, height);\n",
        "    CHECK_CUDA(cudaPeekAtLastError());\n",
        "    cudaEventRecord(stop, 0);\n",
        "cudaEventSynchronize(stop);\n",
        "float elapsedTime;\n",
        "cudaEventElapsedTime(&elapsedTime, start, stop);\n",
        "\n",
        "\n",
        "    // Copy back the refined edges\n",
        "    CHECK_CUDA(cudaMemcpy(h_final, d_final, width * height * sizeof(unsigned char), cudaMemcpyDeviceToHost));\n",
        "\n",
        "    // Save the final tumor-extracted image\n",
        "    Mat refinedEdges(height, width, CV_8UC1, h_final);\n",
        "    imwrite(\"refined_edges8.jpg\", refinedEdges);\n",
        "\n",
        "    // Free Memory\n",
        "    cudaFree(d_edges);\n",
        "    cudaFree(d_binary);\n",
        "    cudaFree(d_dilated);\n",
        "    cudaFree(d_final);\n",
        "    free(h_binary);\n",
        "    free(h_dilated);\n",
        "    free(h_final);\n",
        "\n",
        "    printf(\"Morphological Closing applied. Image saved as 'refined_edges8.jpg'.\\n\");\n",
        "    printf(\"Debug images saved as 'binary_edges8.jpg' and 'dilated_edges8.jpg'.\\n\");\n",
        "    printf(\"Time Taken=%f\",elapsedTime);\n",
        "\n",
        "    return 0;\n",
        "}\n"
      ],
      "metadata": {
        "colab": {
          "base_uri": "https://localhost:8080/"
        },
        "id": "s7BnTadCMxO1",
        "outputId": "1dbf413a-8641-4bad-ae2d-cdeabfc0b833"
      },
      "execution_count": 14,
      "outputs": [
        {
          "output_type": "stream",
          "name": "stdout",
          "text": [
            "Writing morphological_ops.cu\n"
          ]
        }
      ]
    },
    {
      "cell_type": "code",
      "source": [
        "!nvcc -arch=sm_75 morphological_ops.cu -o sample `pkg-config --cflags --libs opencv4`"
      ],
      "metadata": {
        "colab": {
          "base_uri": "https://localhost:8080/"
        },
        "id": "kTQ4ahYeM023",
        "outputId": "f849c9bd-c5af-47f1-9d97-8c8757ed5664"
      },
      "execution_count": 15,
      "outputs": [
        {
          "output_type": "stream",
          "name": "stdout",
          "text": [
            "\u001b[01m\u001b[0m\u001b[01m/usr/include/opencv4/opencv2/stitching/detail/warpers.hpp(235)\u001b[0m: \u001b[01;35mwarning\u001b[0m #611-D: overloaded virtual function \u001b[01m\"cv::detail::PlaneWarper::buildMaps\"\u001b[0m is only partially overridden in class \u001b[01m\"cv::detail::AffineWarper\"\u001b[0m\n",
            "  class AffineWarper : public PlaneWarper\n",
            "        ^\n",
            "\n",
            "\u001b[01;36m\u001b[0m\u001b[01;36mRemark\u001b[0m: The warnings can be suppressed with \"-diag-suppress <warning-number>\"\n",
            "\n",
            "\u001b[01m\u001b[0m\u001b[01m/usr/include/opencv4/opencv2/stitching/detail/warpers.hpp(235)\u001b[0m: \u001b[01;35mwarning\u001b[0m #611-D: overloaded virtual function \u001b[01m\"cv::detail::PlaneWarper::warp\"\u001b[0m is only partially overridden in class \u001b[01m\"cv::detail::AffineWarper\"\u001b[0m\n",
            "  class AffineWarper : public PlaneWarper\n",
            "        ^\n",
            "\n",
            "\u001b[01m\u001b[0m\u001b[01m/usr/include/opencv4/opencv2/stitching/detail/blenders.hpp(100)\u001b[0m: \u001b[01;35mwarning\u001b[0m #611-D: overloaded virtual function \u001b[01m\"cv::detail::Blender::prepare\"\u001b[0m is only partially overridden in class \u001b[01m\"cv::detail::FeatherBlender\"\u001b[0m\n",
            "  class FeatherBlender : public Blender\n",
            "        ^\n",
            "\n",
            "\u001b[01m\u001b[0m\u001b[01m/usr/include/opencv4/opencv2/stitching/detail/blenders.hpp(127)\u001b[0m: \u001b[01;35mwarning\u001b[0m #611-D: overloaded virtual function \u001b[01m\"cv::detail::Blender::prepare\"\u001b[0m is only partially overridden in class \u001b[01m\"cv::detail::MultiBandBlender\"\u001b[0m\n",
            "  class MultiBandBlender : public Blender\n",
            "        ^\n",
            "\n",
            "\u001b[01m\u001b[0m\u001b[01m/usr/include/opencv4/opencv2/stitching/detail/warpers.hpp(235)\u001b[0m: \u001b[01;35mwarning\u001b[0m #611-D: overloaded virtual function \u001b[01m\"cv::detail::PlaneWarper::buildMaps\"\u001b[0m is only partially overridden in class \u001b[01m\"cv::detail::AffineWarper\"\u001b[0m\n",
            "  class AffineWarper : public PlaneWarper\n",
            "        ^\n",
            "\n",
            "\u001b[01;36m\u001b[0m\u001b[01;36mRemark\u001b[0m: The warnings can be suppressed with \"-diag-suppress <warning-number>\"\n",
            "\n",
            "\u001b[01m\u001b[0m\u001b[01m/usr/include/opencv4/opencv2/stitching/detail/warpers.hpp(235)\u001b[0m: \u001b[01;35mwarning\u001b[0m #611-D: overloaded virtual function \u001b[01m\"cv::detail::PlaneWarper::warp\"\u001b[0m is only partially overridden in class \u001b[01m\"cv::detail::AffineWarper\"\u001b[0m\n",
            "  class AffineWarper : public PlaneWarper\n",
            "        ^\n",
            "\n",
            "\u001b[01m\u001b[0m\u001b[01m/usr/include/opencv4/opencv2/stitching/detail/blenders.hpp(100)\u001b[0m: \u001b[01;35mwarning\u001b[0m #611-D: overloaded virtual function \u001b[01m\"cv::detail::Blender::prepare\"\u001b[0m is only partially overridden in class \u001b[01m\"cv::detail::FeatherBlender\"\u001b[0m\n",
            "  class FeatherBlender : public Blender\n",
            "        ^\n",
            "\n",
            "\u001b[01m\u001b[0m\u001b[01m/usr/include/opencv4/opencv2/stitching/detail/blenders.hpp(127)\u001b[0m: \u001b[01;35mwarning\u001b[0m #611-D: overloaded virtual function \u001b[01m\"cv::detail::Blender::prepare\"\u001b[0m is only partially overridden in class \u001b[01m\"cv::detail::MultiBandBlender\"\u001b[0m\n",
            "  class MultiBandBlender : public Blender\n",
            "        ^\n",
            "\n"
          ]
        }
      ]
    },
    {
      "cell_type": "code",
      "source": [
        "!./sample"
      ],
      "metadata": {
        "colab": {
          "base_uri": "https://localhost:8080/"
        },
        "id": "rsGKoMULM6U0",
        "outputId": "f3d660ef-510d-4446-ab2b-0c71dfcbdee4"
      },
      "execution_count": 16,
      "outputs": [
        {
          "output_type": "stream",
          "name": "stdout",
          "text": [
            "Processing image: 501x518\n",
            "Morphological Closing applied. Image saved as 'refined_edges8.jpg'.\n",
            "Debug images saved as 'binary_edges8.jpg' and 'dilated_edges8.jpg'.\n",
            "Time Taken=3.508224"
          ]
        }
      ]
    },
    {
      "cell_type": "code",
      "source": [
        "%%writefile tumor_detection.cu\n",
        "#include <stdio.h>\n",
        "#include <cuda_runtime.h>\n",
        "#include <opencv2/opencv.hpp>\n",
        "\n",
        "using namespace cv;\n",
        "using namespace std;\n",
        "\n",
        "#define CHECK_CUDA(call) \\\n",
        "{ \\\n",
        "    cudaError_t err = call; \\\n",
        "    if (err != cudaSuccess) { \\\n",
        "        printf(\"CUDA Error at %s:%d - %s\\n\", __FILE__, __LINE__, cudaGetErrorString(err)); \\\n",
        "        exit(EXIT_FAILURE); \\\n",
        "    } \\\n",
        "}\n",
        "\n",
        "// CUDA Kernel: Apply Otsu’s Thresholding\n",
        "__global__ void thresholdOtsu(unsigned char *input, unsigned int *output, int width, int height, int otsuThreshold) {\n",
        "    int x = blockIdx.x * blockDim.x + threadIdx.x;\n",
        "    int y = blockIdx.y * blockDim.y + threadIdx.y;\n",
        "    int idx = y * width + x;\n",
        "\n",
        "    if (x < width && y < height) {\n",
        "        output[idx] = (input[idx] > otsuThreshold) ? 255 : 0;\n",
        "    }\n",
        "}\n",
        "\n",
        "// CUDA Kernel: Region Growing\n",
        "__global__ void regionGrowing(unsigned int *input, unsigned int *output, int width, int height) {\n",
        "    int x = blockIdx.x * blockDim.x + threadIdx.x;\n",
        "    int y = blockIdx.y * blockDim.y + threadIdx.y;\n",
        "    int idx = y * width + x;\n",
        "\n",
        "    if (x >= width || y >= height) return;\n",
        "\n",
        "    if (input[idx] == 255) {\n",
        "        // Spread to neighboring pixels\n",
        "        if (x > 0) atomicMax(&output[idx - 1], 255);\n",
        "        if (x < width - 1) atomicMax(&output[idx + 1], 255);\n",
        "        if (y > 0) atomicMax(&output[idx - width], 255);\n",
        "        if (y < height - 1) atomicMax(&output[idx + width], 255);\n",
        "    }\n",
        "}\n",
        "\n",
        "int main() {\n",
        "    // Load Image\n",
        "    Mat edgeImage = imread(\"refined_edges8.jpg\", IMREAD_GRAYSCALE);\n",
        "    if (edgeImage.empty()) {\n",
        "        printf(\"Error: Refined edges image not found!\\n\");\n",
        "        return -1;\n",
        "    }\n",
        "    cudaEvent_t start, stop;\n",
        "cudaEventCreate(&start);\n",
        "cudaEventCreate(&stop);\n",
        " cudaEventRecord(start, 0);\n",
        "\n",
        "\n",
        "    int width = edgeImage.cols;\n",
        "    int height = edgeImage.rows;\n",
        "\n",
        "    // Apply Otsu’s Thresholding\n",
        "    Mat binaryImage;\n",
        "    threshold(edgeImage, binaryImage, 0, 255, THRESH_BINARY | THRESH_OTSU);\n",
        "    int otsuThreshold = threshold(edgeImage, binaryImage, 0, 255, THRESH_BINARY | THRESH_OTSU);\n",
        "\n",
        "    // Allocate Memory\n",
        "    unsigned char *h_input = edgeImage.data;\n",
        "    unsigned int *h_thresholded = (unsigned int*)malloc(width * height * sizeof(unsigned int));\n",
        "    unsigned int *h_output = (unsigned int*)malloc(width * height * sizeof(unsigned int));\n",
        "\n",
        "    // Device Memory\n",
        "    unsigned char *d_input;\n",
        "    unsigned int *d_thresholded, *d_output;\n",
        "    CHECK_CUDA(cudaMalloc(&d_input, width * height * sizeof(unsigned char)));\n",
        "    CHECK_CUDA(cudaMalloc(&d_thresholded, width * height * sizeof(unsigned int)));\n",
        "    CHECK_CUDA(cudaMalloc(&d_output, width * height * sizeof(unsigned int)));\n",
        "\n",
        "    CHECK_CUDA(cudaMemcpy(d_input, h_input, width * height * sizeof(unsigned char), cudaMemcpyHostToDevice));\n",
        "\n",
        "    // CUDA Kernel Launch\n",
        "    dim3 blockSize(16, 16);\n",
        "    dim3 gridSize((width + 15) / 16, (height + 15) / 16);\n",
        "\n",
        "    thresholdOtsu<<<gridSize, blockSize>>>(d_input, d_thresholded, width, height, otsuThreshold);\n",
        "    CHECK_CUDA(cudaDeviceSynchronize());\n",
        "\n",
        "    regionGrowing<<<gridSize, blockSize>>>(d_thresholded, d_output, width, height);\n",
        "    cudaEventRecord(stop, 0);\n",
        "cudaEventSynchronize(stop);\n",
        "float elapsedTime;\n",
        "cudaEventElapsedTime(&elapsedTime, start, stop);\n",
        "\n",
        "\n",
        "    CHECK_CUDA(cudaMemcpy(h_output, d_output, width * height * sizeof(unsigned int), cudaMemcpyDeviceToHost));\n",
        "\n",
        "    // Convert output to 8-bit for saving\n",
        "    Mat tumorMask(height, width, CV_8UC1);\n",
        "    for (int i = 0; i < width * height; i++) {\n",
        "        tumorMask.data[i] = (h_output[i] > 0) ? 255 : 0;\n",
        "    }\n",
        "\n",
        "    imwrite(\"tumor_mask8.jpg\", tumorMask);\n",
        "\n",
        "    // Cleanup\n",
        "    cudaFree(d_input); cudaFree(d_thresholded); cudaFree(d_output);\n",
        "    free(h_thresholded); free(h_output);\n",
        "\n",
        "    printf(\"Tumor detection complete using Otsu’s Thresholding!\\n\");\n",
        "    printf(\"Time Taken=%f\",elapsedTime);\n",
        "    return 0;\n",
        "}\n"
      ],
      "metadata": {
        "colab": {
          "base_uri": "https://localhost:8080/"
        },
        "id": "1O3LRlTzNMWH",
        "outputId": "652c9184-fa9b-4224-a2c1-c6ca1a70ada2"
      },
      "execution_count": 17,
      "outputs": [
        {
          "output_type": "stream",
          "name": "stdout",
          "text": [
            "Writing tumor_detection.cu\n"
          ]
        }
      ]
    },
    {
      "cell_type": "code",
      "source": [
        "!nvcc -arch=sm_75 tumor_detection.cu -o sample `pkg-config --cflags --libs opencv4`"
      ],
      "metadata": {
        "colab": {
          "base_uri": "https://localhost:8080/"
        },
        "id": "Yvp1JRUbNPhf",
        "outputId": "60d8e6c6-0275-4c3a-9168-a16e222585db"
      },
      "execution_count": 18,
      "outputs": [
        {
          "output_type": "stream",
          "name": "stdout",
          "text": [
            "\u001b[01m\u001b[0m\u001b[01m/usr/include/opencv4/opencv2/stitching/detail/warpers.hpp(235)\u001b[0m: \u001b[01;35mwarning\u001b[0m #611-D: overloaded virtual function \u001b[01m\"cv::detail::PlaneWarper::buildMaps\"\u001b[0m is only partially overridden in class \u001b[01m\"cv::detail::AffineWarper\"\u001b[0m\n",
            "  class AffineWarper : public PlaneWarper\n",
            "        ^\n",
            "\n",
            "\u001b[01;36m\u001b[0m\u001b[01;36mRemark\u001b[0m: The warnings can be suppressed with \"-diag-suppress <warning-number>\"\n",
            "\n",
            "\u001b[01m\u001b[0m\u001b[01m/usr/include/opencv4/opencv2/stitching/detail/warpers.hpp(235)\u001b[0m: \u001b[01;35mwarning\u001b[0m #611-D: overloaded virtual function \u001b[01m\"cv::detail::PlaneWarper::warp\"\u001b[0m is only partially overridden in class \u001b[01m\"cv::detail::AffineWarper\"\u001b[0m\n",
            "  class AffineWarper : public PlaneWarper\n",
            "        ^\n",
            "\n",
            "\u001b[01m\u001b[0m\u001b[01m/usr/include/opencv4/opencv2/stitching/detail/blenders.hpp(100)\u001b[0m: \u001b[01;35mwarning\u001b[0m #611-D: overloaded virtual function \u001b[01m\"cv::detail::Blender::prepare\"\u001b[0m is only partially overridden in class \u001b[01m\"cv::detail::FeatherBlender\"\u001b[0m\n",
            "  class FeatherBlender : public Blender\n",
            "        ^\n",
            "\n",
            "\u001b[01m\u001b[0m\u001b[01m/usr/include/opencv4/opencv2/stitching/detail/blenders.hpp(127)\u001b[0m: \u001b[01;35mwarning\u001b[0m #611-D: overloaded virtual function \u001b[01m\"cv::detail::Blender::prepare\"\u001b[0m is only partially overridden in class \u001b[01m\"cv::detail::MultiBandBlender\"\u001b[0m\n",
            "  class MultiBandBlender : public Blender\n",
            "        ^\n",
            "\n",
            "\u001b[01m\u001b[0m\u001b[01m/usr/include/opencv4/opencv2/stitching/detail/warpers.hpp(235)\u001b[0m: \u001b[01;35mwarning\u001b[0m #611-D: overloaded virtual function \u001b[01m\"cv::detail::PlaneWarper::buildMaps\"\u001b[0m is only partially overridden in class \u001b[01m\"cv::detail::AffineWarper\"\u001b[0m\n",
            "  class AffineWarper : public PlaneWarper\n",
            "        ^\n",
            "\n",
            "\u001b[01;36m\u001b[0m\u001b[01;36mRemark\u001b[0m: The warnings can be suppressed with \"-diag-suppress <warning-number>\"\n",
            "\n",
            "\u001b[01m\u001b[0m\u001b[01m/usr/include/opencv4/opencv2/stitching/detail/warpers.hpp(235)\u001b[0m: \u001b[01;35mwarning\u001b[0m #611-D: overloaded virtual function \u001b[01m\"cv::detail::PlaneWarper::warp\"\u001b[0m is only partially overridden in class \u001b[01m\"cv::detail::AffineWarper\"\u001b[0m\n",
            "  class AffineWarper : public PlaneWarper\n",
            "        ^\n",
            "\n",
            "\u001b[01m\u001b[0m\u001b[01m/usr/include/opencv4/opencv2/stitching/detail/blenders.hpp(100)\u001b[0m: \u001b[01;35mwarning\u001b[0m #611-D: overloaded virtual function \u001b[01m\"cv::detail::Blender::prepare\"\u001b[0m is only partially overridden in class \u001b[01m\"cv::detail::FeatherBlender\"\u001b[0m\n",
            "  class FeatherBlender : public Blender\n",
            "        ^\n",
            "\n",
            "\u001b[01m\u001b[0m\u001b[01m/usr/include/opencv4/opencv2/stitching/detail/blenders.hpp(127)\u001b[0m: \u001b[01;35mwarning\u001b[0m #611-D: overloaded virtual function \u001b[01m\"cv::detail::Blender::prepare\"\u001b[0m is only partially overridden in class \u001b[01m\"cv::detail::MultiBandBlender\"\u001b[0m\n",
            "  class MultiBandBlender : public Blender\n",
            "        ^\n",
            "\n"
          ]
        }
      ]
    },
    {
      "cell_type": "code",
      "source": [
        "!./sample"
      ],
      "metadata": {
        "colab": {
          "base_uri": "https://localhost:8080/"
        },
        "id": "f8tEtU1CNVIe",
        "outputId": "d6556e97-b064-44ac-bfc6-30b64f0f242a"
      },
      "execution_count": 19,
      "outputs": [
        {
          "output_type": "stream",
          "name": "stdout",
          "text": [
            "Tumor detection complete using Otsu’s Thresholding!\n",
            "Time Taken=2.885312"
          ]
        }
      ]
    },
    {
      "cell_type": "code",
      "source": [
        "%%writefile tumor_extraction.cu\n",
        "#include <opencv2/opencv.hpp>\n",
        "#include <cuda_runtime.h>\n",
        "#include <iostream>\n",
        "\n",
        "using namespace cv;\n",
        "using namespace std;\n",
        "\n",
        "// CUDA Kernel to Apply Mask (Extract Only Tumor)\n",
        "__global__ void apply_mask(unsigned char *image, unsigned char *mask, unsigned char *output, int width, int height) {\n",
        "    int idx = blockIdx.x * blockDim.x + threadIdx.x;\n",
        "    if (idx >= width * height) return;\n",
        "\n",
        "    // Ensure the mask is strictly binary\n",
        "    bool isTumor = (mask[idx] > 128); // Any non-black pixel is treated as tumor\n",
        "\n",
        "    // If mask is tumor, keep original pixel; otherwise, make it black\n",
        "    output[idx] = isTumor ? image[idx] : 0;\n",
        "}\n",
        "\n",
        "int main() {\n",
        "    // Load the grayscale MRI and tumor mask images\n",
        "    Mat brainImage = imread(\"img8.jpg\", IMREAD_GRAYSCALE);\n",
        "    Mat tumorMask = imread(\"tumor_mask8.jpg\", IMREAD_GRAYSCALE);\n",
        "\n",
        "    if (brainImage.empty() || tumorMask.empty()) {\n",
        "        cerr << \"Error: Unable to load images!\" << endl;\n",
        "        return -1;\n",
        "    }\n",
        "\n",
        "    // Ensure both images have the same dimensions\n",
        "    if (brainImage.size() != tumorMask.size()) {\n",
        "        cerr << \"Error: Image and mask size mismatch!\" << endl;\n",
        "        return -1;\n",
        "    }\n",
        "    cudaEvent_t start, stop;\n",
        "cudaEventCreate(&start);\n",
        "cudaEventCreate(&stop);\n",
        " cudaEventRecord(start, 0);\n",
        "\n",
        "    int width = brainImage.cols;\n",
        "    int height = brainImage.rows;\n",
        "    int size = width * height * sizeof(unsigned char);\n",
        "\n",
        "    // Convert mask to binary (ensure strict black & white)\n",
        "    threshold(tumorMask, tumorMask, 128, 255, THRESH_BINARY);\n",
        "\n",
        "    // Allocate memory for input and output on the device\n",
        "    unsigned char *d_brain, *d_mask, *d_output;\n",
        "    cudaMalloc((void**)&d_brain, size);\n",
        "    cudaMalloc((void**)&d_mask, size);\n",
        "    cudaMalloc((void**)&d_output, size);\n",
        "\n",
        "    // Copy images to the device\n",
        "    cudaMemcpy(d_brain, brainImage.data, size, cudaMemcpyHostToDevice);\n",
        "    cudaMemcpy(d_mask, tumorMask.data, size, cudaMemcpyHostToDevice);\n",
        "\n",
        "    // Define CUDA grid and block sizes\n",
        "    int threadsPerBlock = 256;\n",
        "    int blocksPerGrid = (width * height + threadsPerBlock - 1) / threadsPerBlock;\n",
        "\n",
        "    // Launch CUDA kernel to extract the tumor\n",
        "    apply_mask<<<blocksPerGrid, threadsPerBlock>>>(d_brain, d_mask, d_output, width, height);\n",
        "    cudaEventRecord(stop, 0);\n",
        "cudaEventSynchronize(stop);\n",
        "float elapsedTime;\n",
        "cudaEventElapsedTime(&elapsedTime, start, stop);\n",
        "\n",
        "\n",
        "    // Retrieve the extracted tumor image from device\n",
        "    Mat extractedTumor(height, width, CV_8UC1);\n",
        "    cudaMemcpy(extractedTumor.data, d_output, size, cudaMemcpyDeviceToHost);\n",
        "\n",
        "    // Save the extracted tumor image\n",
        "    imwrite(\"extracted_tumor.jpeg\", extractedTumor);\n",
        "    cout << \"Tumor extracted successfully! Saved as extracted_tumor.jpeg\" << endl;\n",
        "    printf(\"Time Taken=%f\",elapsedTime);\n",
        "\n",
        "    // Free CUDA memory\n",
        "    cudaFree(d_brain);\n",
        "    cudaFree(d_mask);\n",
        "    cudaFree(d_output);\n",
        "\n",
        "    return 0;\n",
        "}\n"
      ],
      "metadata": {
        "colab": {
          "base_uri": "https://localhost:8080/"
        },
        "id": "vY88hlK5NYbB",
        "outputId": "142e15c4-51df-4276-ac5b-4ad84c99b181"
      },
      "execution_count": 20,
      "outputs": [
        {
          "output_type": "stream",
          "name": "stdout",
          "text": [
            "Writing tumor_extraction.cu\n"
          ]
        }
      ]
    },
    {
      "cell_type": "code",
      "source": [
        "!nvcc -arch=sm_75 tumor_extraction.cu -o sample `pkg-config --cflags --libs opencv4`"
      ],
      "metadata": {
        "colab": {
          "base_uri": "https://localhost:8080/"
        },
        "id": "ap_quQhaNlxJ",
        "outputId": "9346580a-5ae3-4997-9901-757f4c9070fc"
      },
      "execution_count": 21,
      "outputs": [
        {
          "output_type": "stream",
          "name": "stdout",
          "text": [
            "\u001b[01m\u001b[0m\u001b[01m/usr/include/opencv4/opencv2/stitching/detail/warpers.hpp(235)\u001b[0m: \u001b[01;35mwarning\u001b[0m #611-D: overloaded virtual function \u001b[01m\"cv::detail::PlaneWarper::buildMaps\"\u001b[0m is only partially overridden in class \u001b[01m\"cv::detail::AffineWarper\"\u001b[0m\n",
            "  class AffineWarper : public PlaneWarper\n",
            "        ^\n",
            "\n",
            "\u001b[01;36m\u001b[0m\u001b[01;36mRemark\u001b[0m: The warnings can be suppressed with \"-diag-suppress <warning-number>\"\n",
            "\n",
            "\u001b[01m\u001b[0m\u001b[01m/usr/include/opencv4/opencv2/stitching/detail/warpers.hpp(235)\u001b[0m: \u001b[01;35mwarning\u001b[0m #611-D: overloaded virtual function \u001b[01m\"cv::detail::PlaneWarper::warp\"\u001b[0m is only partially overridden in class \u001b[01m\"cv::detail::AffineWarper\"\u001b[0m\n",
            "  class AffineWarper : public PlaneWarper\n",
            "        ^\n",
            "\n",
            "\u001b[01m\u001b[0m\u001b[01m/usr/include/opencv4/opencv2/stitching/detail/blenders.hpp(100)\u001b[0m: \u001b[01;35mwarning\u001b[0m #611-D: overloaded virtual function \u001b[01m\"cv::detail::Blender::prepare\"\u001b[0m is only partially overridden in class \u001b[01m\"cv::detail::FeatherBlender\"\u001b[0m\n",
            "  class FeatherBlender : public Blender\n",
            "        ^\n",
            "\n",
            "\u001b[01m\u001b[0m\u001b[01m/usr/include/opencv4/opencv2/stitching/detail/blenders.hpp(127)\u001b[0m: \u001b[01;35mwarning\u001b[0m #611-D: overloaded virtual function \u001b[01m\"cv::detail::Blender::prepare\"\u001b[0m is only partially overridden in class \u001b[01m\"cv::detail::MultiBandBlender\"\u001b[0m\n",
            "  class MultiBandBlender : public Blender\n",
            "        ^\n",
            "\n",
            "\u001b[01m\u001b[0m\u001b[01m/usr/include/opencv4/opencv2/stitching/detail/warpers.hpp(235)\u001b[0m: \u001b[01;35mwarning\u001b[0m #611-D: overloaded virtual function \u001b[01m\"cv::detail::PlaneWarper::buildMaps\"\u001b[0m is only partially overridden in class \u001b[01m\"cv::detail::AffineWarper\"\u001b[0m\n",
            "  class AffineWarper : public PlaneWarper\n",
            "        ^\n",
            "\n",
            "\u001b[01;36m\u001b[0m\u001b[01;36mRemark\u001b[0m: The warnings can be suppressed with \"-diag-suppress <warning-number>\"\n",
            "\n",
            "\u001b[01m\u001b[0m\u001b[01m/usr/include/opencv4/opencv2/stitching/detail/warpers.hpp(235)\u001b[0m: \u001b[01;35mwarning\u001b[0m #611-D: overloaded virtual function \u001b[01m\"cv::detail::PlaneWarper::warp\"\u001b[0m is only partially overridden in class \u001b[01m\"cv::detail::AffineWarper\"\u001b[0m\n",
            "  class AffineWarper : public PlaneWarper\n",
            "        ^\n",
            "\n",
            "\u001b[01m\u001b[0m\u001b[01m/usr/include/opencv4/opencv2/stitching/detail/blenders.hpp(100)\u001b[0m: \u001b[01;35mwarning\u001b[0m #611-D: overloaded virtual function \u001b[01m\"cv::detail::Blender::prepare\"\u001b[0m is only partially overridden in class \u001b[01m\"cv::detail::FeatherBlender\"\u001b[0m\n",
            "  class FeatherBlender : public Blender\n",
            "        ^\n",
            "\n",
            "\u001b[01m\u001b[0m\u001b[01m/usr/include/opencv4/opencv2/stitching/detail/blenders.hpp(127)\u001b[0m: \u001b[01;35mwarning\u001b[0m #611-D: overloaded virtual function \u001b[01m\"cv::detail::Blender::prepare\"\u001b[0m is only partially overridden in class \u001b[01m\"cv::detail::MultiBandBlender\"\u001b[0m\n",
            "  class MultiBandBlender : public Blender\n",
            "        ^\n",
            "\n"
          ]
        }
      ]
    },
    {
      "cell_type": "code",
      "source": [
        "!./sample"
      ],
      "metadata": {
        "colab": {
          "base_uri": "https://localhost:8080/"
        },
        "id": "_RWexJkCNphB",
        "outputId": "dfaaea65-f9e0-4cd4-e1ca-1b47947aa332"
      },
      "execution_count": 22,
      "outputs": [
        {
          "output_type": "stream",
          "name": "stdout",
          "text": [
            "Tumor extracted successfully! Saved as extracted_tumor.jpeg\n",
            "Time Taken=2.121760"
          ]
        }
      ]
    }
  ]
}